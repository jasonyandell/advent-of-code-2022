{
 "cells": [
  {
   "cell_type": "code",
   "execution_count": 86,
   "metadata": {},
   "outputs": [],
   "source": [
    "import collections\n",
    "\n",
    "sample = \"\"\"1\n",
    "2\n",
    "-3\n",
    "3\n",
    "-2\n",
    "0\n",
    "4\"\"\".splitlines()\n",
    "\n",
    "class Node:\n",
    "    def __init__(self, value:int, next=None, prev=None):\n",
    "        self.value = value\n",
    "        self.prev = None\n",
    "        self.next = None\n",
    "\n",
    "def print_nodes(node):\n",
    "    output = [node.value]\n",
    "    curr = node.next\n",
    "    while (curr != node): \n",
    "        output.append(curr.value)\n",
    "        curr = curr.next\n",
    "    print(output)\n",
    "\n",
    "def shuffle(values:list[int], count:int):\n",
    "    head = Node(values[0])\n",
    "    indexes:dict[int,Node] = {0:head}\n",
    "    curr = head\n",
    "    for i in range(1, len(values)):\n",
    "        curr.next = Node(values[i])\n",
    "        t = curr\n",
    "        curr = curr.next\n",
    "        curr.prev = t\n",
    "        indexes[i] = curr\n",
    "    curr.next = head\n",
    "    head.prev = curr\n",
    "\n",
    "    for c in range(count):\n",
    "        for index,node in indexes.items():\n",
    "            if (node.value == 0): continue\n",
    "\n",
    "            steps = (abs(node.value) % (len(values)-1))\n",
    "            steps *= 1 if node.value > 0 else -1\n",
    "\n",
    "            # curr and next are node-1 and node+1 depending\n",
    "            curr = node.prev if steps > 0 else node.next\n",
    "            next = node.next if steps > 0 else node.prev\n",
    "\n",
    "            # remove node\n",
    "            node.prev.next = node.next\n",
    "            node.next.prev = node.prev\n",
    "\n",
    "            for i in range(abs(steps)):\n",
    "                curr = next\n",
    "                next = curr.next if steps > 0 else curr.prev\n",
    "\n",
    "            if (steps < 0):\n",
    "                curr, next = next, curr\n",
    "\n",
    "            curr.next = node\n",
    "            node.next = next\n",
    "            node.prev = curr\n",
    "            next.prev = node\n",
    "\n",
    "        #print_nodes(node)\n",
    "    \n",
    "    return head\n",
    "\n",
    "def do_the_thing(input:list[str], factor:int, count:int=1):\n",
    "    initial_values = list(map(int, input))\n",
    "    values = list(map(lambda x:x*factor, initial_values))\n",
    "    #print(values)\n",
    "    zero = shuffle(values,count)\n",
    "    while (zero.value != 0): zero=zero.next\n",
    "    #print_nodes(zero)\n",
    "\n",
    "    outputs = []\n",
    "    curr = zero\n",
    "    for i in range(1,3001):\n",
    "        curr = curr.next\n",
    "        if (i % 1000 == 0): outputs.append(curr.value)\n",
    "    return sum(outputs)\n",
    "\n",
    "def part1(input:list[str]): return do_the_thing(input, 1)\n",
    "def part2(input:list[str]): return do_the_thing(input, 811589153, 10)\n",
    "\n",
    "assert 3 == part1(sample)\n",
    "assert 1623178306 == part2(sample)\n"
   ]
  },
  {
   "cell_type": "code",
   "execution_count": 88,
   "metadata": {},
   "outputs": [
    {
     "name": "stdout",
     "output_type": "stream",
     "text": [
      "5498\n",
      "3390007892081\n"
     ]
    }
   ],
   "source": [
    "from aoc import read_lines\n",
    "\n",
    "print(part1(read_lines(\"data/day20.txt\")))\n",
    "print(part2(read_lines(\"data/day20.txt\")))"
   ]
  },
  {
   "cell_type": "code",
   "execution_count": null,
   "metadata": {},
   "outputs": [],
   "source": []
  }
 ],
 "metadata": {
  "kernelspec": {
   "display_name": "Python 3",
   "language": "python",
   "name": "python3"
  },
  "language_info": {
   "codemirror_mode": {
    "name": "ipython",
    "version": 3
   },
   "file_extension": ".py",
   "mimetype": "text/x-python",
   "name": "python",
   "nbconvert_exporter": "python",
   "pygments_lexer": "ipython3",
   "version": "3.11.0"
  },
  "orig_nbformat": 4,
  "vscode": {
   "interpreter": {
    "hash": "1a1af0ee75eeea9e2e1ee996c87e7a2b11a0bebd85af04bb136d915cefc0abce"
   }
  }
 },
 "nbformat": 4,
 "nbformat_minor": 2
}
