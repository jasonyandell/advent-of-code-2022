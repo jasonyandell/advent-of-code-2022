{
 "cells": [
  {
   "cell_type": "markdown",
   "metadata": {},
   "source": [
    "# Day 2\n",
    "\n",
    "This time with a little explaination. "
   ]
  },
  {
   "cell_type": "markdown",
   "metadata": {},
   "source": [
    "### Calculating score"
   ]
  },
  {
   "cell_type": "code",
   "execution_count": 103,
   "metadata": {},
   "outputs": [],
   "source": [
    "def score(players):\n",
    "    p1 = players[0]\n",
    "    p2 = players[1]\n",
    "    if (p1 + 1) % 3 == p2:\n",
    "        return 6\n",
    "    elif p1 == p2:\n",
    "        return 3\n",
    "    else:\n",
    "        return 0"
   ]
  },
  {
   "cell_type": "markdown",
   "metadata": {},
   "source": [
    "### Input"
   ]
  },
  {
   "cell_type": "code",
   "execution_count": 104,
   "metadata": {},
   "outputs": [],
   "source": [
    "def read_data(file):\n",
    "    txt_file = open(f\"{file}\", \"r\")\n",
    "    file_content = txt_file.read()\n",
    "    txt_file.close()\n",
    "    return file_content"
   ]
  },
  {
   "cell_type": "markdown",
   "metadata": {},
   "source": [
    "### Part 1\n",
    "\n",
    "General approach: \n",
    "* Get the input as a string, split it by lines eg `['A Y','B X','C Z']`\n",
    "* Convert lines to numbers, eg `'A Y'` -> `[0,1]`\n",
    "* Calculate the score for `[0,1]` -> `6` (paper beats rock)\n",
    "* Take all of them and add the `player value` + `score`\n",
    "  * `player value` is `player + 1`\n",
    "    * eg `'Y'` means paper, p'rock is 0, so rock value is 1\n",
    "* Sum them up"
   ]
  },
  {
   "cell_type": "code",
   "execution_count": 105,
   "metadata": {},
   "outputs": [
    {
     "name": "stdout",
     "output_type": "stream",
     "text": [
      "10941\n"
     ]
    }
   ],
   "source": [
    "playerToNumberP1 = {'A':0,'X':0,'B':1,'Y':1,'C':2,'Z':2}\n",
    "def toNumbersP1(s):\n",
    "    playerCharacters = s.split(' ')\n",
    "    return [playerToNumberP1[playerCharacters[0]],playerToNumberP1[playerCharacters[1]]]\n",
    "\n",
    "data = (read_data('data/day2.txt').split('\\n')) # watch out for trailing \\n in input\n",
    "playersAsNumbers = list(map(toNumbersP1,data))\n",
    "scores = list(map(lambda x: (x[1]+1)+score(x), playersAsNumbers))\n",
    "part1 = sum(scores)\n",
    "print(part1)"
   ]
  },
  {
   "cell_type": "markdown",
   "metadata": {},
   "source": [
    "### Part 2\n",
    "\n",
    "General approach: \n",
    "* split the inputs like in part1\n",
    "* to calculate `player2`, we need to find the outcome that matches the score we want\n",
    "  * eg if we play Rock (`0`) and are looking to Win (`Z`), we need to play Paper\n",
    "  * this is in `getPlayer` - try different things until we find the right score\n",
    "* calculate the score and sum them up like in part 1\n"
   ]
  },
  {
   "cell_type": "code",
   "execution_count": 106,
   "metadata": {},
   "outputs": [
    {
     "name": "stdout",
     "output_type": "stream",
     "text": [
      "13071\n"
     ]
    }
   ],
   "source": [
    "\n",
    "def getPlayer(player1,winner):\n",
    "    outcomes = {'X':0,'Y':3,'Z':6}\n",
    "    scoreNeeded = outcomes[winner]\n",
    "    for player2 in range(3):\n",
    "        if (scoreNeeded == score([player1, player2])):\n",
    "            return player2\n",
    "\n",
    "def toNumbersP2(s):\n",
    "    playerCharacters = s.split(' ')\n",
    "    player1, winner = playerCharacters\n",
    "    player1 = playerToNumberP1[player1]\n",
    "    player2 = getPlayer(player1,winner)\n",
    "    return [player1,player2]\n",
    "\n",
    "data = read_data('data/day2.txt').split('\\n') # watch out for trailing \\n in input\n",
    "playersAsNumbers = list(map(toNumbersP2,data))\n",
    "scores = list(map(lambda x: x[1]+1+score(x), playersAsNumbers))\n",
    "part2 = sum(scores)\n",
    "print(part2)"
   ]
  }
 ],
 "metadata": {
  "kernelspec": {
   "display_name": "Python 3.9.4 64-bit ('3.9.4')",
   "language": "python",
   "name": "python3"
  },
  "language_info": {
   "codemirror_mode": {
    "name": "ipython",
    "version": 3
   },
   "file_extension": ".py",
   "mimetype": "text/x-python",
   "name": "python",
   "nbconvert_exporter": "python",
   "pygments_lexer": "ipython3",
   "version": "3.9.4"
  },
  "orig_nbformat": 4,
  "vscode": {
   "interpreter": {
    "hash": "7bddceb0e3e1cc3ea0db415d758dd189a08079c380e0bac9d1e81b759225f44d"
   }
  }
 },
 "nbformat": 4,
 "nbformat_minor": 2
}
