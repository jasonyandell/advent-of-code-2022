{
 "cells": [
  {
   "cell_type": "markdown",
   "metadata": {},
   "source": [
    "# Day 3\n",
    "\n",
    "Today I learned \n",
    "* How to import a module I made in Jupyter.\n",
    "    * Make a file called `whatever.py` in the same directory\n",
    "    * `from whatever import function_name`\n",
    "* `set`\n",
    "    * For some string `s`, `set(s)` will make a set of the characters in there.  \n",
    "    * `a & b` will calculate the intersection.  This is an `O(min(n,m))` operation\n",
    "* Integer math\n",
    "    * `//` will divide 2 numbers and truncate the result to an integer\n",
    "\n"
   ]
  },
  {
   "cell_type": "code",
   "execution_count": 87,
   "metadata": {},
   "outputs": [],
   "source": [
    "from aoc import read_data\n",
    "data = read_data('data/day3.txt').splitlines()"
   ]
  },
  {
   "cell_type": "markdown",
   "metadata": {},
   "source": [
    "### Part 1"
   ]
  },
  {
   "cell_type": "code",
   "execution_count": 89,
   "metadata": {},
   "outputs": [
    {
     "name": "stdout",
     "output_type": "stream",
     "text": [
      "7785\n"
     ]
    }
   ],
   "source": [
    "def common(s):\n",
    "    halfLen = len(s) // 2\n",
    "    firstHalf = set(s[0:halfLen])\n",
    "    secondHalf = set(s[halfLen:])\n",
    "    return firstHalf & secondHalf\n",
    "\n",
    "def priority(s):\n",
    "    val = 0\n",
    "    for ch in s:\n",
    "        if ch>='a' and ch<='z': \n",
    "            val += 1+ord(ch)-ord('a')\n",
    "        else:\n",
    "            val += 27+ord(ch)-ord('A')\n",
    "    return val\n",
    "\n",
    "day1Vals = list(map(lambda x: priority(common(x)), data))\n",
    "print(sum(day1Vals))"
   ]
  },
  {
   "cell_type": "markdown",
   "metadata": {},
   "source": [
    "### Part 2"
   ]
  },
  {
   "cell_type": "code",
   "execution_count": 90,
   "metadata": {},
   "outputs": [
    {
     "name": "stdout",
     "output_type": "stream",
     "text": [
      "2633\n"
     ]
    }
   ],
   "source": [
    "groups = [data[i*3:i*3+3] for i in range(len(data)//3)]\n",
    "\n",
    "def intersection(g):\n",
    "    return list(set(g[0]) & set(g[1]) & set(g[2])) \n",
    "    \n",
    "common = [intersection(g) for g in groups] \n",
    "day2 = sum([priority(c) for c in common])\n",
    "print(day2)\n"
   ]
  },
  {
   "cell_type": "markdown",
   "metadata": {},
   "source": []
  }
 ],
 "metadata": {
  "kernelspec": {
   "display_name": "Python 3.9.4 64-bit ('3.9.4')",
   "language": "python",
   "name": "python3"
  },
  "language_info": {
   "codemirror_mode": {
    "name": "ipython",
    "version": 3
   },
   "file_extension": ".py",
   "mimetype": "text/x-python",
   "name": "python",
   "nbconvert_exporter": "python",
   "pygments_lexer": "ipython3",
   "version": "3.9.4"
  },
  "orig_nbformat": 4,
  "vscode": {
   "interpreter": {
    "hash": "7bddceb0e3e1cc3ea0db415d758dd189a08079c380e0bac9d1e81b759225f44d"
   }
  }
 },
 "nbformat": 4,
 "nbformat_minor": 2
}
