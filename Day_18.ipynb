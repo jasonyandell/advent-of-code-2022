{
 "cells": [
  {
   "cell_type": "code",
   "execution_count": 74,
   "metadata": {},
   "outputs": [],
   "source": [
    "from collections import deque\n",
    "from functools import cache\n",
    "\n",
    "sample0 = \"\"\"1,1,1\n",
    "2,1,1\"\"\".splitlines()\n",
    "\n",
    "sample = \"\"\"2,2,2\n",
    "1,2,2\n",
    "3,2,2\n",
    "2,1,2\n",
    "2,3,2\n",
    "2,2,1\n",
    "2,2,3\n",
    "2,2,4\n",
    "2,2,6\n",
    "1,2,5\n",
    "3,2,5\n",
    "2,1,5\n",
    "2,3,5\"\"\".splitlines()\n",
    "\n",
    "def get_cubes(lines):\n",
    "    value = set()\n",
    "    for line in lines:\n",
    "        value.add(tuple(map(int,line.split(','))))\n",
    "    return value\n",
    "\n",
    "def neighbors(cube:tuple[int,int,int]):\n",
    "    x,y,z = cube\n",
    "    return set([\n",
    "        (x-1,y,z),\n",
    "        (x,y-1,z),\n",
    "        (x,y,z-1),\n",
    "        (x+1,y,z),\n",
    "        (x,y+1,z),\n",
    "        (x,y,z+1)\n",
    "    ])\n",
    "\n",
    "def count_sides(cubes:set(tuple[int,int,int])):\n",
    "    sides = 0\n",
    "    for cube in cubes:\n",
    "        edges = neighbors(cube)\n",
    "        sides += 6 - len(edges & cubes)\n",
    "    return sides\n",
    "\n",
    "def get_outside(cubes:set(tuple[int, int, int])):\n",
    "    top = min(y for x,y,z in cubes)-1\n",
    "    bottom = max(y for x,y,z in cubes)+1\n",
    "    left = min(x for x,y,z in cubes)-1\n",
    "    right = max(x for x,y,z in cubes)+1\n",
    "    front = min(z for x,y,z in cubes)-1\n",
    "    back = max(z for x,y,z in cubes)+1\n",
    "\n",
    "    entire_range = set([(x,y,z) for x in range(left, right+1) for y in range(top, bottom+1) for z in range(front,back+1)])\n",
    "\n",
    "    #dfs in every direction until hit a cube or limit\n",
    "    visited = set()\n",
    "    def visit_outside(start):\n",
    "        if start in visited: return\n",
    "        if start in cubes: return\n",
    "        visited.add(start)\n",
    "        if start not in entire_range: return \n",
    "        for n in neighbors(start): visit_outside(n)\n",
    "    visit_outside((top,left,front))\n",
    "    return entire_range-visited\n",
    "\n",
    "assert 10 == count_sides(get_cubes(sample0))\n",
    "assert 64 == count_sides(get_cubes(sample))\n",
    "\n",
    "assert 58 == count_sides(get_outside(get_cubes(sample)))"
   ]
  },
  {
   "cell_type": "code",
   "execution_count": 75,
   "metadata": {},
   "outputs": [
    {
     "name": "stdout",
     "output_type": "stream",
     "text": [
      "part 1 3530\n",
      "part 2 2000\n"
     ]
    }
   ],
   "source": [
    "from aoc import read_lines\n",
    "\n",
    "import sys\n",
    "sys.setrecursionlimit(15000)\n",
    "\n",
    "print(\"part 1\", count_sides(get_cubes(read_lines(\"data/day18.txt\"))))\n",
    "print(\"part 2\", count_sides(get_outside(get_cubes(read_lines(\"data/day18.txt\")))))"
   ]
  },
  {
   "cell_type": "code",
   "execution_count": null,
   "metadata": {},
   "outputs": [],
   "source": []
  }
 ],
 "metadata": {
  "kernelspec": {
   "display_name": "Python 3",
   "language": "python",
   "name": "python3"
  },
  "language_info": {
   "codemirror_mode": {
    "name": "ipython",
    "version": 3
   },
   "file_extension": ".py",
   "mimetype": "text/x-python",
   "name": "python",
   "nbconvert_exporter": "python",
   "pygments_lexer": "ipython3",
   "version": "3.11.0"
  },
  "orig_nbformat": 4,
  "vscode": {
   "interpreter": {
    "hash": "1a1af0ee75eeea9e2e1ee996c87e7a2b11a0bebd85af04bb136d915cefc0abce"
   }
  }
 },
 "nbformat": 4,
 "nbformat_minor": 2
}
