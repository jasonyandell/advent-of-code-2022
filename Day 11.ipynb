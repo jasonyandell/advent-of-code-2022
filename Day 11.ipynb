{
 "cells": [
  {
   "cell_type": "markdown",
   "metadata": {},
   "source": [
    "# Day 11\n",
    "\n",
    "It's Sunday\n"
   ]
  },
  {
   "cell_type": "code",
   "execution_count": 182,
   "metadata": {},
   "outputs": [],
   "source": [
    "from collections import Counter, defaultdict\n",
    "from dataclasses import dataclass\n",
    "import math\n",
    "from operator import itemgetter\n",
    "\n",
    "@dataclass\n",
    "class Monkey:\n",
    "    items: list[int]\n",
    "    operation: lambda x:x\n",
    "    test: lambda val:val\n",
    "\n",
    "def make_test(val, if_true, if_false):\n",
    "    return lambda x: if_true if x % val == 0 else if_false\n",
    "\n",
    "def get_sample_monkeys():\n",
    "    return [\n",
    "        Monkey(items=[79, 98], operation=lambda x:x*19, test=make_test(23, 2, 3)),    \n",
    "        Monkey(items=[54, 65, 75, 74], operation=lambda x:x+6, test=make_test(19,2,0)),\n",
    "        Monkey(items=[79, 60, 97], operation=lambda x:x*x, test=make_test(13,1,3)),\n",
    "        Monkey(items=[74], operation=lambda x:x+3, test=make_test(17,0,1))    \n",
    "    ], math.lcm(23,19,13,17)\n",
    "\n",
    "def get_input_monkeys():\n",
    "    return [\n",
    "        Monkey(items=[99, 67, 92, 61, 83, 64, 98], operation=lambda x:x*17, test=make_test(3,4,2)),\n",
    "        Monkey(items=[78, 74, 88, 89, 50], operation=lambda x:x*11, test=make_test(5,3,5)),\n",
    "        Monkey(items=[98, 91], operation=lambda x:x+4, test=make_test(2,6,4)),\n",
    "        Monkey(items=[59, 72, 94, 91, 79, 88, 94, 51], operation=lambda x:x*x, test=make_test(13,0,5)),\n",
    "        Monkey(items=[95, 72, 78], operation=lambda x:x+7, test=make_test(11,7,6)),\n",
    "        Monkey(items=[76], operation=lambda x:x+8, test=make_test(17,0,2)),\n",
    "        Monkey(items=[69, 60, 53, 89, 71, 88], operation=lambda x:x+5, test=make_test(19,7,1)),\n",
    "        Monkey(items=[72, 54, 63, 80], operation=lambda x:x+3, test=make_test(7,1,3)),\n",
    "    ], math.lcm(3,5,2,13,11,17,19,7)\n",
    "\n",
    "def do_round(monkeys:list[Monkey], monkey_count, get_bored, lcm):\n",
    "    for i,monkey in enumerate(monkeys):\n",
    "        for worry in monkey.items:\n",
    "            new_worry = monkey.operation(worry) \n",
    "            new_worry = new_worry // 3 if get_bored else new_worry % lcm\n",
    "            dest = monkey.test(new_worry)\n",
    "            monkeys[dest].items.append(new_worry)\n",
    "        monkey_count[i] += len(monkey.items)\n",
    "        monkey.items = []\n",
    "\n",
    "\n",
    "def do_rounds(monkeys:list[Monkey], round_count:int, get_bored:bool, magic):\n",
    "    monkey_count = defaultdict(lambda:0)\n",
    "    for i in range(round_count):\n",
    "        do_round(monkeys, monkey_count, get_bored, magic)\n",
    "    active = list(dict(sorted(monkey_count.items(), key = itemgetter(1), reverse = True)[:2]).values())\n",
    "    return active[0]*active[1]\n",
    "\n",
    "def part1(monkeys:list[Monkey],magic): return do_rounds(monkeys, 20, True, magic)\n",
    "def part2(monkeys:list[Monkey],magic): return do_rounds(monkeys, 10000, False, magic)\n",
    "\n",
    "assert 10605 == part1(*get_sample_monkeys())\n",
    "assert 2713310158 == part2(*get_sample_monkeys())\n",
    "\n",
    "assert 120384 == part1(*get_input_monkeys())\n",
    "assert 32059801242 == part2(*get_input_monkeys())\n",
    "\n"
   ]
  },
  {
   "cell_type": "code",
   "execution_count": null,
   "metadata": {},
   "outputs": [],
   "source": []
  }
 ],
 "metadata": {
  "kernelspec": {
   "display_name": "Python 3",
   "language": "python",
   "name": "python3"
  },
  "language_info": {
   "codemirror_mode": {
    "name": "ipython",
    "version": 3
   },
   "file_extension": ".py",
   "mimetype": "text/x-python",
   "name": "python",
   "nbconvert_exporter": "python",
   "pygments_lexer": "ipython3",
   "version": "3.11.0"
  },
  "orig_nbformat": 4,
  "vscode": {
   "interpreter": {
    "hash": "1a1af0ee75eeea9e2e1ee996c87e7a2b11a0bebd85af04bb136d915cefc0abce"
   }
  }
 },
 "nbformat": 4,
 "nbformat_minor": 2
}
