{
 "cells": [
  {
   "cell_type": "code",
   "execution_count": 51,
   "metadata": {},
   "outputs": [],
   "source": [
    "from aoc import read_lines\n",
    "\n",
    "data = read_lines(\"data/day8.txt\") #sample.splitlines()\n",
    "\n",
    "sample = \"\"\"30373\n",
    "25512\n",
    "65332\n",
    "33549\n",
    "35390\"\"\""
   ]
  },
  {
   "cell_type": "code",
   "execution_count": 52,
   "metadata": {},
   "outputs": [
    {
     "name": "stdout",
     "output_type": "stream",
     "text": [
      "part 1 1679\n"
     ]
    }
   ],
   "source": [
    "n = len(data)\n",
    "visible_count = 0\n",
    "for row in range(n):\n",
    "    for col in range(n):\n",
    "        up = [data[i][col] for i in range(0,row)]\n",
    "        down = [data[i][col] for i in range(row+1,n)]\n",
    "        left = [data[row][i] for i in range(0,col)]\n",
    "        right = [data[row][i] for i in range(col+1,n)]\n",
    "\n",
    "        check = lambda nums: (not nums) or max(nums) < data[row][col]\n",
    "        visible = check(up) or check(down) or check(left) or check(right)\n",
    "\n",
    "        if visible: visible_count += 1\n",
    "\n",
    "print(\"part 1\", visible_count)"
   ]
  },
  {
   "cell_type": "code",
   "execution_count": 53,
   "metadata": {},
   "outputs": [
    {
     "name": "stdout",
     "output_type": "stream",
     "text": [
      "part2 536625\n"
     ]
    }
   ],
   "source": [
    "#data = sample.splitlines()\n",
    "\n",
    "n = len(data)\n",
    "visible_count = 0\n",
    "\n",
    "def look_from(value:str, nums:list[str]):\n",
    "    for i in range(len(nums)):\n",
    "        if nums[i] >= value:\n",
    "            return i+1\n",
    "    return len(nums)\n",
    "\n",
    "max_value = 0\n",
    "for row in range(n):\n",
    "    for col in range(n):\n",
    "        up = [data[i][col] for i in range(0,row)]\n",
    "        up.reverse() # default looks 0->curr, but we want the other way\n",
    "        down = [data[i][col] for i in range(row+1,n)]\n",
    "        left = [data[row][i] for i in range(0,col)]\n",
    "        left.reverse() # default looks 0->curr, but we want the other way\n",
    "        right = [data[row][i] for i in range(col+1,n)]\n",
    "\n",
    "        look = lambda view: look_from(data[row][col], view)\n",
    "        score = look(up) * look(down) * look(left) * look(right)\n",
    "        max_value = max(max_value, score)\n",
    "\n",
    "print(\"part2\", max_value)"
   ]
  }
 ],
 "metadata": {
  "kernelspec": {
   "display_name": "Python 3.9.4 64-bit ('3.9.4')",
   "language": "python",
   "name": "python3"
  },
  "language_info": {
   "codemirror_mode": {
    "name": "ipython",
    "version": 3
   },
   "file_extension": ".py",
   "mimetype": "text/x-python",
   "name": "python",
   "nbconvert_exporter": "python",
   "pygments_lexer": "ipython3",
   "version": "3.9.4"
  },
  "orig_nbformat": 4,
  "vscode": {
   "interpreter": {
    "hash": "7bddceb0e3e1cc3ea0db415d758dd189a08079c380e0bac9d1e81b759225f44d"
   }
  }
 },
 "nbformat": 4,
 "nbformat_minor": 2
}
