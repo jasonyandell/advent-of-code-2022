{
 "cells": [
  {
   "cell_type": "code",
   "execution_count": 29,
   "metadata": {},
   "outputs": [],
   "source": [
    "from functools import cmp_to_key\n",
    "\n",
    "\n",
    "def get_input(lines):\n",
    "    input = []\n",
    "    for i in range(len(lines)//3 + 1):\n",
    "        left = eval(lines[i*3])\n",
    "        right = eval(lines[i*3+1])\n",
    "        input.append([left, right])\n",
    "    return input\n",
    "\n",
    "sample_text = \"\"\"[1,1,3,1,1]\n",
    "[1,1,5,1,1]\n",
    "\n",
    "[[1],[2,3,4]]\n",
    "[[1],4]\n",
    "\n",
    "[9]\n",
    "[[8,7,6]]\n",
    "\n",
    "[[4,4],4,4]\n",
    "[[4,4],4,4,4]\n",
    "\n",
    "[7,7,7,7]\n",
    "[7,7,7]\n",
    "\n",
    "[]\n",
    "[3]\n",
    "\n",
    "[[[]]]\n",
    "[[]]\n",
    "\n",
    "[1,[2,[3,[4,[5,6,7]]]],8,9]\n",
    "[1,[2,[3,[4,[5,6,0]]]],8,9]\"\"\".splitlines()\n",
    "\n",
    "sample = get_input(sample_text)\n",
    "\n",
    "def is_smaller(left, right):\n",
    "    match left, right:\n",
    "        case [],[]: return 0\n",
    "        case list(l),[]: return -1\n",
    "        case [],list(r): return 1\n",
    "        case int(l), list(r): return is_smaller([l],r)\n",
    "        case list(l), int(r): return is_smaller(l,[r])\n",
    "        case [int(l), *ls], [int(r), *rs]:\n",
    "            if l == r: return is_smaller(ls, rs)\n",
    "            if l < r: return 1\n",
    "            else: return -1\n",
    "        case [l,*ls], [r,*rs]:\n",
    "            result = is_smaller(l,r)\n",
    "            if (result == 0): return is_smaller(ls, rs)\n",
    "            return result\n",
    "        case _: print(\"problem\", left, right)\n",
    "\n",
    "def part1(arys):\n",
    "    answer = 0\n",
    "    for i,[left,right] in enumerate(arys):\n",
    "        if is_smaller(left,right) >= 0: answer += i+1\n",
    "    return answer\n",
    "\n",
    "assert 1 == is_smaller([[1],[2,3,4],5],[[1],4,4])  # case not in docs\n",
    "assert 13 == part1(sample)\n",
    "\n",
    "def part2(arys):\n",
    "    all = []\n",
    "    for l,r in arys: all.extend([l,r])\n",
    "    all.append([[2]])\n",
    "    all.append([[6]])\n",
    "    all.sort(key=cmp_to_key(lambda x,y:is_smaller(x,y)), reverse=True)\n",
    "    two = all.index([[2]])+1\n",
    "    six = all.index([[6]])+1\n",
    "    return two * six\n",
    "\n",
    "assert 140 == part2(sample)\n",
    "\n"
   ]
  },
  {
   "cell_type": "code",
   "execution_count": 30,
   "metadata": {},
   "outputs": [
    {
     "name": "stdout",
     "output_type": "stream",
     "text": [
      "22344\n"
     ]
    }
   ],
   "source": [
    "from aoc import read_lines\n",
    "\n",
    "lines = read_lines(\"data/day13.txt\")\n",
    "input = get_input(lines)\n",
    "\n",
    "assert 5198 == part1(input)\n",
    "\n",
    "print(part2(input))\n"
   ]
  },
  {
   "cell_type": "code",
   "execution_count": null,
   "metadata": {},
   "outputs": [],
   "source": []
  }
 ],
 "metadata": {
  "kernelspec": {
   "display_name": "Python 3",
   "language": "python",
   "name": "python3"
  },
  "language_info": {
   "codemirror_mode": {
    "name": "ipython",
    "version": 3
   },
   "file_extension": ".py",
   "mimetype": "text/x-python",
   "name": "python",
   "nbconvert_exporter": "python",
   "pygments_lexer": "ipython3",
   "version": "3.11.0"
  },
  "orig_nbformat": 4,
  "vscode": {
   "interpreter": {
    "hash": "1a1af0ee75eeea9e2e1ee996c87e7a2b11a0bebd85af04bb136d915cefc0abce"
   }
  }
 },
 "nbformat": 4,
 "nbformat_minor": 2
}
