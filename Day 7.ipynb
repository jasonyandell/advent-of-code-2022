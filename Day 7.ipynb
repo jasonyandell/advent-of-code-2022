{
 "cells": [
  {
   "cell_type": "code",
   "execution_count": 83,
   "metadata": {},
   "outputs": [],
   "source": [
    "from aoc import read_lines\n",
    "\n",
    "sample=\"\"\"$ cd /\n",
    "$ ls\n",
    "dir a\n",
    "14848514 b.txt\n",
    "8504156 c.dat\n",
    "dir d\n",
    "$ cd a\n",
    "$ cd a\n",
    "0 f\n",
    "$ cd ..\n",
    "$ ls\n",
    "dir e\n",
    "29116 f\n",
    "2557 g\n",
    "62596 h.lst\n",
    "$ cd e\n",
    "$ ls\n",
    "584 i\n",
    "$ cd ..\n",
    "$ cd ..\n",
    "$ cd d\n",
    "$ ls\n",
    "4060174 j\n",
    "8033020 d.log\n",
    "5626152 d.ext\n",
    "7214296 k\"\"\"\n",
    "\n",
    "data = read_lines(\"data/day7.txt\")"
   ]
  },
  {
   "cell_type": "code",
   "execution_count": 84,
   "metadata": {},
   "outputs": [
    {
     "name": "stdout",
     "output_type": "stream",
     "text": [
      "part 1 1490523\n",
      "part 2 12390492\n"
     ]
    }
   ],
   "source": [
    "from collections import defaultdict\n",
    "\n",
    "def get_dirs(lines:list[str])->defaultdict[str, int]:\n",
    "    dirs:defaultdict[str,int] = defaultdict(lambda:0)\n",
    "    path = []\n",
    "    for line in lines:\n",
    "        tokens = line.split(' ')\n",
    "        match tokens:\n",
    "            case ['$', 'cd', '..']: path.pop()\n",
    "            case ['$', 'cd', dir]: path.append(dir)\n",
    "            case [size, file]: \n",
    "                if size.isnumeric(): \n",
    "                    for i in range(1,len(path)+1):\n",
    "                        path_str = \" \".join(path[:i])\n",
    "                        dirs[path_str] += int(size) \n",
    "    return dirs\n",
    "\n",
    "def part1(lines:list[str]):\n",
    "    dirs = get_dirs(lines)\n",
    "    total = 0\n",
    "    for path, size in dirs.items():\n",
    "        size = dirs[path]\n",
    "        if (size <= 100000):\n",
    "            total += size\n",
    "    return total\n",
    "\n",
    "assert 95437 == part1(sample.splitlines())\n",
    "print(\"part 1\", part1(data))\n",
    "\n",
    "def part2(lines:list[str]):\n",
    "    dirs = get_dirs(lines)\n",
    "    total_size = dirs['/']\n",
    "    needed = 30000000 - (70000000 - total_size)\n",
    "    sizes = list(dirs.values())\n",
    "    sizes.sort()\n",
    "    for size in sizes:\n",
    "        if size > needed:\n",
    "            return size\n",
    "\n",
    "assert 24933642 == part2(sample.splitlines())\n",
    "print('part 2', part2(data))\n"
   ]
  }
 ],
 "metadata": {
  "kernelspec": {
   "display_name": "Python 3",
   "language": "python",
   "name": "python3"
  },
  "language_info": {
   "codemirror_mode": {
    "name": "ipython",
    "version": 3
   },
   "file_extension": ".py",
   "mimetype": "text/x-python",
   "name": "python",
   "nbconvert_exporter": "python",
   "pygments_lexer": "ipython3",
   "version": "3.11.0"
  },
  "orig_nbformat": 4,
  "vscode": {
   "interpreter": {
    "hash": "1a1af0ee75eeea9e2e1ee996c87e7a2b11a0bebd85af04bb136d915cefc0abce"
   }
  }
 },
 "nbformat": 4,
 "nbformat_minor": 2
}
