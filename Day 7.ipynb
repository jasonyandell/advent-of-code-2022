{
 "cells": [
  {
   "cell_type": "code",
   "execution_count": 52,
   "metadata": {},
   "outputs": [],
   "source": [
    "from aoc import read_lines\n",
    "\n",
    "sample=\"\"\"$ cd /\n",
    "$ ls\n",
    "dir a\n",
    "14848514 b.txt\n",
    "8504156 c.dat\n",
    "dir d\n",
    "$ cd a\n",
    "$ ls\n",
    "dir e\n",
    "29116 f\n",
    "2557 g\n",
    "62596 h.lst\n",
    "$ cd e\n",
    "$ ls\n",
    "584 i\n",
    "$ cd ..\n",
    "$ cd ..\n",
    "$ cd d\n",
    "$ ls\n",
    "4060174 j\n",
    "8033020 d.log\n",
    "5626152 d.ext\n",
    "7214296 k\"\"\"\n",
    "\n",
    "data = read_lines(\"data/day7.txt\")"
   ]
  },
  {
   "cell_type": "code",
   "execution_count": 56,
   "metadata": {},
   "outputs": [
    {
     "name": "stdout",
     "output_type": "stream",
     "text": [
      "1250377\n"
     ]
    }
   ],
   "source": [
    "from collections import defaultdict\n",
    "\n",
    "def build_tree(log:list[str]):\n",
    "    current_dir = \"\"\n",
    "    sizes = defaultdict(lambda:0)\n",
    "    line = 0\n",
    "    while line<len(log):\n",
    "        if '$ cd' in log[line]:\n",
    "            command = log[line].split(\" \")[1]\n",
    "            if command == 'cd':\n",
    "                dirname = log[line].split(\" \")[2]\n",
    "                if dirname == '/': current_dir = ''\n",
    "                elif dirname == '..': \n",
    "                    path:list[str] = current_dir.split('/')\n",
    "                    current_dir = \"/\".join(path[:-1])\n",
    "                else: current_dir = current_dir + '/' + dirname\n",
    "        if log[line].split(' ')[0].isnumeric():\n",
    "            sizes[current_dir] += int(log[line].split(' ')[0])\n",
    "        line += 1\n",
    "    return sizes\n",
    "\n",
    "def get_total_sizes(sizes:dict[str,int]):\n",
    "    total = defaultdict(lambda:0)\n",
    "    for dir in sizes.keys():\n",
    "        others = [size for other_dir, size in sizes.items() if dir in other_dir]\n",
    "        total[dir] = sum(others)\n",
    "    return total\n",
    "\n",
    "def dirs_smaller_than(input:list[str],max_dir_size:int):\n",
    "    sizes = build_tree(input)\n",
    "    total_sizes = get_total_sizes(sizes)\n",
    "    print(sizes)\n",
    "    answer = sum([size for _,size in total_sizes.items() if size < max_dir_size])\n",
    "    return answer\n",
    "\n",
    "#assert 95437 == dirs_smaller_than(sample.splitlines(), 100000)\n",
    "print(dirs_smaller_than(data, 100000))\n"
   ]
  },
  {
   "cell_type": "code",
   "execution_count": null,
   "metadata": {},
   "outputs": [],
   "source": []
  }
 ],
 "metadata": {
  "kernelspec": {
   "display_name": "Python 3.9.4 64-bit ('3.9.4')",
   "language": "python",
   "name": "python3"
  },
  "language_info": {
   "codemirror_mode": {
    "name": "ipython",
    "version": 3
   },
   "file_extension": ".py",
   "mimetype": "text/x-python",
   "name": "python",
   "nbconvert_exporter": "python",
   "pygments_lexer": "ipython3",
   "version": "3.9.4"
  },
  "orig_nbformat": 4,
  "vscode": {
   "interpreter": {
    "hash": "7bddceb0e3e1cc3ea0db415d758dd189a08079c380e0bac9d1e81b759225f44d"
   }
  }
 },
 "nbformat": 4,
 "nbformat_minor": 2
}
