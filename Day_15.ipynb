{
 "cells": [
  {
   "cell_type": "code",
   "execution_count": 37,
   "metadata": {},
   "outputs": [
    {
     "name": "stdout",
     "output_type": "stream",
     "text": [
      "11\n"
     ]
    }
   ],
   "source": [
    "from collections import deque\n",
    "import re\n",
    "\n",
    "sample=\"\"\"Sensor at x=2, y=18: closest beacon is at x=-2, y=15\n",
    "Sensor at x=9, y=16: closest beacon is at x=10, y=16\n",
    "Sensor at x=13, y=2: closest beacon is at x=15, y=3\n",
    "Sensor at x=12, y=14: closest beacon is at x=10, y=16\n",
    "Sensor at x=10, y=20: closest beacon is at x=10, y=16\n",
    "Sensor at x=14, y=17: closest beacon is at x=10, y=16\n",
    "Sensor at x=8, y=7: closest beacon is at x=2, y=10\n",
    "Sensor at x=2, y=0: closest beacon is at x=2, y=10\n",
    "Sensor at x=0, y=11: closest beacon is at x=2, y=10\n",
    "Sensor at x=20, y=14: closest beacon is at x=25, y=17\n",
    "Sensor at x=17, y=20: closest beacon is at x=21, y=22\n",
    "Sensor at x=16, y=7: closest beacon is at x=15, y=3\n",
    "Sensor at x=14, y=3: closest beacon is at x=15, y=3\n",
    "Sensor at x=20, y=1: closest beacon is at x=15, y=3\"\"\".splitlines()\n",
    "\n",
    "def distance(a, b): return abs(a[0] - b[0]) + abs(a[1] - b[1])\n",
    "\n",
    "def parse(lines:list[str]):\n",
    "    S = set()\n",
    "    B = set()\n",
    "    S_to_B = {}\n",
    "    S_dist = {}\n",
    "    for line in lines:\n",
    "        [res] = re.findall(\"Sensor at x=(.+), y=(.+): closest beacon is at x=(.+), y=(.+)\", line)\n",
    "        [sx,sy,bx,by] = map(int,res)\n",
    "        s = (sx, sy)\n",
    "        b = (bx, by)\n",
    "        S.add(s)\n",
    "        B.add(b)\n",
    "        S_to_B[s] = b\n",
    "        S_dist[s] = distance(s,b)\n",
    "    return S, B, S_to_B, S_dist\n",
    "\n",
    "def merge_segments(segments:list[tuple[int,int]]):\n",
    "    segments.sort(key=lambda a:a[0])\n",
    "    i = 0\n",
    "    while i < len(segments)-1:\n",
    "        start, end = segments[i]\n",
    "        next_start, next_end = segments[i+1]\n",
    "        if end+1 < next_start or start-1 > next_end: \n",
    "            i += 1\n",
    "            continue\n",
    "        segments[i] = (min(start,next_start), max(end, next_end))\n",
    "        segments.remove(segments[i+1])\n",
    "    return segments\n",
    "\n",
    "def test(segments, outcome):\n",
    "    merge_segments(segments)\n",
    "    if set(segments) != set(outcome):\n",
    "        print(f\"Mismatch: {segments} != {outcome}\")\n",
    "    assert set(segments) == set(outcome)\n",
    "\n",
    "\n",
    "test([(1,2),(4,5)], [(1,2), (4,5)])\n",
    "test([(1,2),(3,5)], [(1,5)])\n",
    "test([(1,3),(2,5)], [(1,5)])\n",
    "test([(2,3),(2,5)], [(2,5)])\n",
    "test([(1,1),(2,2),(3,3),(4,4),(5,5)], [(1,5)])\n",
    "\n",
    "def segments_at(y,S,S_dist):\n",
    "    segments = []\n",
    "    for s in S:\n",
    "        d = S_dist[s]\n",
    "        sx,sy = s\n",
    "        if y < sy - d or y > sy + d: continue\n",
    "\n",
    "        width = d - abs(sy-y)\n",
    "        segments.append((sx - width, sx + width))\n",
    "    return segments\n",
    "\n",
    "def part1(lines, y):\n",
    "    S, B, S_to_B, S_dist = parse(lines)\n",
    "    segments = merge_segments(segments_at(y, S, S_dist))\n",
    "    width = sum(b-a+1 for a,b in segments)\n",
    "    bs = sum(b==y for a,b in B)\n",
    "    ss = sum(b==y for a,b in S)\n",
    "    return width - bs - ss\n",
    "\n",
    "def part2(lines):\n",
    "    S, B, S_to_B, S_dist = parse(lines)\n",
    "\n",
    "    at = lambda y: merge_segments(segments_at(y, S, S_dist))\n",
    "\n",
    "    prev_segments = at(0)\n",
    "    for y in range(1,4000000):\n",
    "        segments = at(y)\n",
    "        #print(f\"{y=} {len(segments)=} {len(prev_segments)=}\")\n",
    "        if len(segments)>len(prev_segments):\n",
    "            break\n",
    "        segments = prev_segments\n",
    "    print(y)\n",
    "\n",
    "    return y + (segments[0][1] + 1) * 4000000\n",
    "\n",
    "assert 26 == part1(sample, 10)\n",
    "assert 56000011 == part2(sample)\n"
   ]
  },
  {
   "cell_type": "markdown",
   "metadata": {},
   "source": []
  },
  {
   "cell_type": "code",
   "execution_count": 39,
   "metadata": {},
   "outputs": [
    {
     "name": "stdout",
     "output_type": "stream",
     "text": [
      "6275922\n",
      "3442119\n",
      "11747175442119\n"
     ]
    }
   ],
   "source": [
    "from aoc import read_lines\n",
    "\n",
    "lines = read_lines(\"data/day15.txt\")\n",
    "print(part1(lines, 2000000))\n",
    "\n",
    "print(part2(lines))"
   ]
  },
  {
   "cell_type": "code",
   "execution_count": null,
   "metadata": {},
   "outputs": [],
   "source": []
  },
  {
   "cell_type": "code",
   "execution_count": null,
   "metadata": {},
   "outputs": [],
   "source": []
  }
 ],
 "metadata": {
  "kernelspec": {
   "display_name": "Python 3",
   "language": "python",
   "name": "python3"
  },
  "language_info": {
   "codemirror_mode": {
    "name": "ipython",
    "version": 3
   },
   "file_extension": ".py",
   "mimetype": "text/x-python",
   "name": "python",
   "nbconvert_exporter": "python",
   "pygments_lexer": "ipython3",
   "version": "3.11.0"
  },
  "orig_nbformat": 4,
  "vscode": {
   "interpreter": {
    "hash": "1a1af0ee75eeea9e2e1ee996c87e7a2b11a0bebd85af04bb136d915cefc0abce"
   }
  }
 },
 "nbformat": 4,
 "nbformat_minor": 2
}
