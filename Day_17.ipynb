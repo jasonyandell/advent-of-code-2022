{
 "cells": [
  {
   "cell_type": "code",
   "execution_count": 50,
   "metadata": {},
   "outputs": [
    {
     "name": "stdout",
     "output_type": "stream",
     "text": [
      "sample 3068\n"
     ]
    }
   ],
   "source": [
    "pieces = [ \n",
    "    lambda pos: set(complex(pos.real+a,pos.imag) for a in range(4)),\n",
    "    lambda pos: set([complex(pos.real+1,pos.imag)]) | set([complex(pos.real+1,pos.imag+2)]) | set(complex(pos.real+a,pos.imag+1) for a in range(3)),\n",
    "    lambda pos: set(complex(pos.real+a,pos.imag) for a in range(3)) | set(complex(pos.real+2,pos.imag+a) for a in range(3)),\n",
    "    lambda pos: set(complex(pos.real,pos.imag+a) for a in range(4)),\n",
    "    lambda pos: set(complex(pos.real+a,pos.imag+b) for a in range(2) for b in range(2)),\n",
    "]\n",
    "\n",
    "def nearby_walls(pos:complex):\n",
    "    return set(complex(0,y) for y in range(int(pos.imag-5), int(pos.imag)+5)) | \\\n",
    "        set(complex(8,y) for y in range(int(pos.imag-5), int(pos.imag)+5))\n",
    "\n",
    "def imag(points:set[complex]): return set(int(p.imag) for p in points)\n",
    "def real(points:set[complex]): return set(int(p.real) for p in points)\n",
    "\n",
    "def start(rocks:set[complex], piece:int):\n",
    "    top = max(imag(rocks))\n",
    "    left = 3\n",
    "    bottom = top + 4\n",
    "    return (complex(left, bottom), pieces[piece])\n",
    "\n",
    "def print_board(points:set[complex]):\n",
    "    ys = imag(points)\n",
    "    xs = real(points)\n",
    "    for y in range(max(ys),min(ys)-1,-1):\n",
    "        line = \"\"\n",
    "        for x in range(min(xs), max(xs)+1):\n",
    "            if complex(x,y) in points: line += '#'\n",
    "            else: line += '.'\n",
    "        print(line)\n",
    "    print()\n",
    "\n",
    "def go(jets):\n",
    "    directions = {\">\":1, \"<\":-1, \"d\":1j}\n",
    "    jet = 0\n",
    "    rock = 0\n",
    "    rocks = set(complex(x,0) for x in range(9))\n",
    "    rock_pos, rock_fn = start(rocks, rock)\n",
    "    total_rocks = 1\n",
    "    while total_rocks <= 2022:\n",
    "        # jet\n",
    "        new_pos = rock_pos + directions[jets[jet]]\n",
    "        if len(rock_fn(new_pos) & (rocks | nearby_walls(rock_pos))):            \n",
    "            new_pos = rock_pos\n",
    "        rock_pos = new_pos\n",
    "        jet = (jet + 1) % len(jets)\n",
    "\n",
    "        # down\n",
    "        rock_pos -= 1j\n",
    "        if len(rock_fn(rock_pos) & rocks):\n",
    "            total_rocks += 1\n",
    "            rocks |= rock_fn(rock_pos + 1j)\n",
    "            rock = (rock+1) % len(pieces)\n",
    "            rock_pos, rock_fn = start(rocks, rock)\n",
    "            #print_board(rocks | rock_fn(rock_pos) | nearby_walls(rock_pos))        \n",
    "    return max(imag(rocks))\n",
    "\n",
    "print(\"sample\", go(\">>><<><>><<<>><>>><<<>>><<<><<<>><>><<>>\"))\n",
    "\n",
    "from aoc import read_data\n",
    "print(\"part 1\", go(read_data(\"data/day17.txt\")))\n"
   ]
  },
  {
   "cell_type": "code",
   "execution_count": null,
   "metadata": {},
   "outputs": [],
   "source": []
  }
 ],
 "metadata": {
  "kernelspec": {
   "display_name": "Python 3",
   "language": "python",
   "name": "python3"
  },
  "language_info": {
   "codemirror_mode": {
    "name": "ipython",
    "version": 3
   },
   "file_extension": ".py",
   "mimetype": "text/x-python",
   "name": "python",
   "nbconvert_exporter": "python",
   "pygments_lexer": "ipython3",
   "version": "3.11.0"
  },
  "orig_nbformat": 4,
  "vscode": {
   "interpreter": {
    "hash": "1a1af0ee75eeea9e2e1ee996c87e7a2b11a0bebd85af04bb136d915cefc0abce"
   }
  }
 },
 "nbformat": 4,
 "nbformat_minor": 2
}
