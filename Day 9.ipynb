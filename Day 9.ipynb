{
 "cells": [
  {
   "attachments": {},
   "cell_type": "markdown",
   "metadata": {},
   "source": [
    "# Day 9"
   ]
  },
  {
   "cell_type": "code",
   "execution_count": 76,
   "metadata": {},
   "outputs": [
    {
     "name": "stdout",
     "output_type": "stream",
     "text": [
      "part 1 6337\n",
      "part 2 2455\n"
     ]
    }
   ],
   "source": [
    "from aoc import read_lines\n",
    "\n",
    "sample = \"\"\"R 4\n",
    "U 4\n",
    "L 3\n",
    "D 1\n",
    "R 4\n",
    "D 1\n",
    "L 5\n",
    "R 2\"\"\".splitlines()\n",
    "\n",
    "sample2 = \"\"\"R 5\n",
    "U 8\n",
    "L 8\n",
    "D 3\n",
    "R 17\n",
    "D 10\n",
    "L 25\n",
    "U 20\"\"\".splitlines()\n",
    "\n",
    "real_data = read_lines(\"data/day9.txt\")\n",
    "data = real_data\n",
    "\n",
    "def diff(a:list[int],b:list[int]): return [a[i]-b[i] for i in range(2)]\n",
    "def add(a:list[int],b:list[int]): return [a[i]+b[i] for i in range(2)]\n",
    "\n",
    "def get_move(line:str):\n",
    "    match line.split(' '):\n",
    "        case [\"U\",n]: return [0,-1], int(n)\n",
    "        case [\"D\",n]: return [0,1], int(n)\n",
    "        case [\"L\",n]: return [-1,0], int(n)\n",
    "        case [\"R\",n]: return [1,0], int(n)\n",
    "        \n",
    "def move_tail(h:list[int],t:list[int]):\n",
    "    dist = diff(h,t)\n",
    "    x,y = dist\n",
    "    match [x,y]:\n",
    "        case [-1|0|1, -1|0|1]: return [0,0]\n",
    "        case [-2|2,-1|0|1]: return [x//2, y]\n",
    "        case [-1|0|1,-2|2]: return [x, y//2]\n",
    "        case [2|-2,2|-2]: return [x//2, y//2]\n",
    "        case x: print(f\"problem: {x}\")\n",
    "\n",
    "def move_snake(h:list[str], ts:list[str]):\n",
    "    positions = set()\n",
    "    for line in data:\n",
    "        delta, count = get_move(line)\n",
    "        for i in range(count):\n",
    "            h = add(h, delta)\n",
    "            ts[0] = add(ts[0], move_tail(h,ts[0]))\n",
    "            for j in range(1,len(ts)):\n",
    "                ts[j] = add(ts[j], move_tail(ts[j-1],ts[j]))\n",
    "            positions.add((ts[-1][0],ts[-1][1]))\n",
    "    return len(positions)\n",
    "\n",
    "print(\"part 1\", move_snake([0,0],[[0,0]]))\n",
    "print(\"part 2\", move_snake([0,0],[[0,0] for i in range(9)]))\n"
   ]
  }
 ],
 "metadata": {
  "kernelspec": {
   "display_name": "Python 3",
   "language": "python",
   "name": "python3"
  },
  "language_info": {
   "codemirror_mode": {
    "name": "ipython",
    "version": 3
   },
   "file_extension": ".py",
   "mimetype": "text/x-python",
   "name": "python",
   "nbconvert_exporter": "python",
   "pygments_lexer": "ipython3",
   "version": "3.11.0"
  },
  "orig_nbformat": 4,
  "vscode": {
   "interpreter": {
    "hash": "1a1af0ee75eeea9e2e1ee996c87e7a2b11a0bebd85af04bb136d915cefc0abce"
   }
  }
 },
 "nbformat": 4,
 "nbformat_minor": 2
}
