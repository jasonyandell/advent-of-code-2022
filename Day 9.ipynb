{
 "cells": [
  {
   "cell_type": "code",
   "execution_count": 31,
   "metadata": {},
   "outputs": [
    {
     "name": "stdout",
     "output_type": "stream",
     "text": [
      "----[1, 0]--4-----\n",
      "dist [1, 0]\n",
      "dist [2, 0]\n",
      "dist [2, 0]\n",
      "dist [2, 0]\n",
      "----[0, -1]--4-----\n",
      "dist [1, -1]\n",
      "dist [1, -2]\n",
      "dist [0, -2]\n",
      "dist [0, -2]\n",
      "----[-1, 0]--3-----\n",
      "dist [-1, -1]\n",
      "dist [-2, -1]\n",
      "dist [-2, 0]\n",
      "----[0, 1]--1-----\n",
      "dist [-1, 1]\n",
      "----[1, 0]--4-----\n",
      "dist [0, 1]\n",
      "dist [1, 1]\n",
      "dist [2, 1]\n",
      "dist [2, 0]\n",
      "----[0, 1]--1-----\n",
      "dist [1, 1]\n",
      "----[-1, 0]--5-----\n",
      "dist [0, 1]\n",
      "dist [-1, 1]\n",
      "dist [-2, 1]\n",
      "dist [-2, 0]\n",
      "dist [-2, 0]\n",
      "----[1, 0]--2-----\n",
      "dist [0, 0]\n",
      "cover [1, -2] [1, -2]\n",
      "dist [1, 0]\n",
      "{(2, -2), (3, -2), (4, -3), (0, 0), (4, -2), (2, 0), (3, -3), (1, -2), (3, 0), (2, -4), (4, -1), (1, 0), (3, -4)}\n",
      "13\n"
     ]
    }
   ],
   "source": [
    "from aoc import read_lines\n",
    "\n",
    "sample = \"\"\"R 4\n",
    "U 4\n",
    "L 3\n",
    "D 1\n",
    "R 4\n",
    "D 1\n",
    "L 5\n",
    "R 2\"\"\".splitlines()\n",
    "\n",
    "input = read_lines(\"data/day9.txt\")\n",
    "\n",
    "def diff(a:list[int],b:list[int]): return [a[i]-b[i] for i in range(2)]\n",
    "def add(a:list[int],b:list[int]): return [a[i]+b[i] for i in range(2)]\n",
    "\n",
    "def get_move(line:str):\n",
    "    match line.split(' '):\n",
    "        case [\"U\",n]: return [0,-1], int(n)\n",
    "        case [\"D\",n]: return [0,1], int(n)\n",
    "        case [\"L\",n]: return [-1,0], int(n)\n",
    "        case [\"R\",n]: return [1,0], int(n)\n",
    "        \n",
    "def move_tail(h:list[int],t:list[int]):\n",
    "    dist = diff(h,t)\n",
    "    print(\"dist\", dist)\n",
    "    match dist:\n",
    "        case [-1|0|1, -1|0|1]: return [0,0]\n",
    "        case [-2|2,-1|0|1]: return [dist[0]//2, dist[1]]\n",
    "        case [-1|0|1,-2|2]: return [dist[0], dist[1]//2]\n",
    "        case _: print(\"problem\")\n",
    "\n",
    "\n",
    "h = [0,0]\n",
    "t = [0,0]\n",
    "\n",
    "positions = set()\n",
    "\n",
    "for line in input:\n",
    "    delta, count = get_move(line)\n",
    "    for i in range(count):\n",
    "        h = add(h, delta)\n",
    "        t = add(t, move_tail(h,t))\n",
    "        if (diff(h,t) == [0,0]): print(\"cover\", h,t)\n",
    "        positions.add((t[0],t[1]))\n",
    "\n",
    "print(len(positions))\n"
   ]
  },
  {
   "cell_type": "code",
   "execution_count": null,
   "metadata": {},
   "outputs": [],
   "source": []
  }
 ],
 "metadata": {
  "kernelspec": {
   "display_name": "Python 3",
   "language": "python",
   "name": "python3"
  },
  "language_info": {
   "codemirror_mode": {
    "name": "ipython",
    "version": 3
   },
   "file_extension": ".py",
   "mimetype": "text/x-python",
   "name": "python",
   "nbconvert_exporter": "python",
   "pygments_lexer": "ipython3",
   "version": "3.11.0"
  },
  "orig_nbformat": 4,
  "vscode": {
   "interpreter": {
    "hash": "1a1af0ee75eeea9e2e1ee996c87e7a2b11a0bebd85af04bb136d915cefc0abce"
   }
  }
 },
 "nbformat": 4,
 "nbformat_minor": 2
}
