{
 "cells": [
  {
   "cell_type": "markdown",
   "metadata": {},
   "source": [
    "# Day 4"
   ]
  },
  {
   "cell_type": "code",
   "execution_count": 53,
   "metadata": {},
   "outputs": [],
   "source": [
    "from aoc import read_lines\n",
    "\n",
    "def make_sets(input:list[str]): \n",
    "    for line in input:\n",
    "        [left_assignment, right_assignment] = line.split(',')\n",
    "        to_set = lambda start,stop: set(range(int(start),int(stop)+1))\n",
    "        left = to_set(*left_assignment.split('-'))\n",
    "        right = to_set(*right_assignment.split('-'))\n",
    "        yield left, right"
   ]
  },
  {
   "cell_type": "markdown",
   "metadata": {},
   "source": [
    "### Part 1"
   ]
  },
  {
   "cell_type": "code",
   "execution_count": 54,
   "metadata": {},
   "outputs": [],
   "source": [
    "def count_overlaps(sets:list[tuple[set[int],set[int]]]):\n",
    "    count = 0\n",
    "    for left, right in sets:\n",
    "        if left >= right or right >= left:\n",
    "            count += 1\n",
    "    return count\n",
    "\n",
    "def part1(input):\n",
    "    sets = make_sets(input)\n",
    "    count = count_overlaps(sets)\n",
    "    return count"
   ]
  },
  {
   "cell_type": "markdown",
   "metadata": {},
   "source": [
    "Sample"
   ]
  },
  {
   "cell_type": "code",
   "execution_count": 55,
   "metadata": {},
   "outputs": [],
   "source": [
    "sample = \"\"\"2-4,6-8\n",
    "2-3,4-5\n",
    "5-7,7-9\n",
    "2-8,3-7\n",
    "6-6,4-6\n",
    "2-6,4-8\"\"\".splitlines()\n",
    "\n",
    "part1_sample = part1(sample)\n",
    "assert(part1_sample == 2)"
   ]
  },
  {
   "cell_type": "markdown",
   "metadata": {},
   "source": [
    "Real data"
   ]
  },
  {
   "cell_type": "code",
   "execution_count": 56,
   "metadata": {},
   "outputs": [],
   "source": [
    "part1_answer = part1(read_lines(\"data/day4.txt\"))\n",
    "assert(part1_answer == 496)"
   ]
  },
  {
   "cell_type": "markdown",
   "metadata": {},
   "source": [
    "### Part 2"
   ]
  },
  {
   "cell_type": "code",
   "execution_count": 57,
   "metadata": {},
   "outputs": [],
   "source": [
    "def count_any_intersection(sets):\n",
    "    count = 0\n",
    "    for left, right in sets:\n",
    "        if len(left & right) > 0:\n",
    "            count += 1\n",
    "    return count\n",
    "\n",
    "def part2(input):\n",
    "    sets = make_sets(input)\n",
    "    count = count_any_intersection(sets)\n",
    "    return count"
   ]
  },
  {
   "cell_type": "markdown",
   "metadata": {},
   "source": [
    "Sample"
   ]
  },
  {
   "cell_type": "code",
   "execution_count": 58,
   "metadata": {},
   "outputs": [],
   "source": [
    "part2_sample = part2(sample)\n",
    "assert(part2_sample == 4)"
   ]
  },
  {
   "cell_type": "markdown",
   "metadata": {},
   "source": [
    "Real data"
   ]
  },
  {
   "cell_type": "code",
   "execution_count": 59,
   "metadata": {},
   "outputs": [],
   "source": [
    "from aoc import read_lines\n",
    "\n",
    "part2_answer = part2(read_lines(\"data/day4.txt\"))\n",
    "assert(part2_answer == 847)"
   ]
  }
 ],
 "metadata": {
  "kernelspec": {
   "display_name": "Python 3.9.4 64-bit ('3.9.4')",
   "language": "python",
   "name": "python3"
  },
  "language_info": {
   "codemirror_mode": {
    "name": "ipython",
    "version": 3
   },
   "file_extension": ".py",
   "mimetype": "text/x-python",
   "name": "python",
   "nbconvert_exporter": "python",
   "pygments_lexer": "ipython3",
   "version": "3.9.4"
  },
  "orig_nbformat": 4,
  "vscode": {
   "interpreter": {
    "hash": "7bddceb0e3e1cc3ea0db415d758dd189a08079c380e0bac9d1e81b759225f44d"
   }
  }
 },
 "nbformat": 4,
 "nbformat_minor": 2
}
