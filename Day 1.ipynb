{
 "cells": [
  {
   "cell_type": "markdown",
   "id": "fd52bafd",
   "metadata": {},
   "source": [
    "# Day 1\n",
    "\n",
    "New to python, new to Jupyter Notebook.  Just trying things out"
   ]
  },
  {
   "cell_type": "code",
   "execution_count": 16,
   "id": "19a5611a",
   "metadata": {},
   "outputs": [],
   "source": [
    "def read_data(file):\n",
    "    txt_file = open(f\"{file}\", \"r\")\n",
    "    file_content = txt_file.read()\n",
    "    txt_file.close()\n",
    "    return file_content"
   ]
  },
  {
   "cell_type": "code",
   "execution_count": 17,
   "id": "462783fd",
   "metadata": {},
   "outputs": [],
   "source": [
    "day1 = read_data('data/day1.txt')"
   ]
  },
  {
   "cell_type": "code",
   "execution_count": 18,
   "id": "ce126a45",
   "metadata": {},
   "outputs": [],
   "source": [
    "groupText = day1.split(\"\\n\\n\")\n",
    "groups = [[int(x) for x in group.split(\"\\n\")] for group in groupText]\n",
    "#print(groups)\n",
    "sums = [sum(g) for g in groups]\n",
    "sums.sort()\n",
    "sums.reverse()"
   ]
  },
  {
   "cell_type": "code",
   "execution_count": 19,
   "id": "cf0931bd",
   "metadata": {},
   "outputs": [],
   "source": [
    "part1 = max(sums)"
   ]
  },
  {
   "cell_type": "code",
   "execution_count": 20,
   "id": "bbfbe7b2",
   "metadata": {},
   "outputs": [],
   "source": [
    "top3 = sums[:3]\n",
    "part2 = sum(top3)"
   ]
  },
  {
   "cell_type": "code",
   "execution_count": 21,
   "id": "729c48db",
   "metadata": {},
   "outputs": [
    {
     "name": "stdout",
     "output_type": "stream",
     "text": [
      "day 1 part 1 71023\n",
      "day 1 part 2 206289\n"
     ]
    }
   ],
   "source": [
    "print('day 1 part 1', part1)\n",
    "print('day 1 part 2', part2)"
   ]
  },
  {
   "cell_type": "code",
   "execution_count": null,
   "id": "c4410d26",
   "metadata": {},
   "outputs": [],
   "source": []
  }
 ],
 "metadata": {
  "kernelspec": {
   "display_name": "Python 3.9.4 64-bit ('3.9.4')",
   "language": "python",
   "name": "python3"
  },
  "language_info": {
   "codemirror_mode": {
    "name": "ipython",
    "version": 3
   },
   "file_extension": ".py",
   "mimetype": "text/x-python",
   "name": "python",
   "nbconvert_exporter": "python",
   "pygments_lexer": "ipython3",
   "version": "3.9.4"
  },
  "vscode": {
   "interpreter": {
    "hash": "7bddceb0e3e1cc3ea0db415d758dd189a08079c380e0bac9d1e81b759225f44d"
   }
  }
 },
 "nbformat": 4,
 "nbformat_minor": 5
}
