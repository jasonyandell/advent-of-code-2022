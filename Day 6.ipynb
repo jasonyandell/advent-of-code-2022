{
 "cells": [
  {
   "cell_type": "markdown",
   "metadata": {},
   "source": [
    "# Day 6"
   ]
  },
  {
   "cell_type": "markdown",
   "metadata": {},
   "source": [
    "Data"
   ]
  },
  {
   "cell_type": "code",
   "execution_count": 15,
   "metadata": {},
   "outputs": [],
   "source": [
    "from aoc import read_data\n",
    "\n",
    "sample = \"\"\"mjqjpqmgbljsphdztnvjfqwrcgsmlb\n",
    "bvwbjplbgvbhsrlpgdmjqwftvncz\n",
    "nppdvjthqldpwncqszvftbrmjlhg\n",
    "nznrnfrfntjfmvfwmzdfjlvtqnbhcprsg\n",
    "zcfzfwzzqfrljwzlrfnpqdbhtmscgvjw\"\"\"\n",
    "\n",
    "data = read_data(\"data/day6.txt\")"
   ]
  },
  {
   "cell_type": "markdown",
   "metadata": {},
   "source": [
    "Code"
   ]
  },
  {
   "cell_type": "code",
   "execution_count": 16,
   "metadata": {},
   "outputs": [
    {
     "name": "stdout",
     "output_type": "stream",
     "text": [
      "Day 1 1987\n",
      "Day 2 3059\n"
     ]
    }
   ],
   "source": [
    "def uniquie_prior_chars_pos(noise, num_chars):\n",
    "    for i in range(num_chars, len(noise)):\n",
    "        last_four = set(noise[i-num_chars:i])\n",
    "        if len(last_four) == num_chars:\n",
    "            return i\n",
    "\n",
    "def signal_start(noise):\n",
    "    return uniquie_prior_chars_pos(noise, 4)\n",
    "\n",
    "def message_start(noise):\n",
    "    return uniquie_prior_chars_pos(noise, 14)\n",
    "\n",
    "assert [signal_start(line) for line in sample.splitlines()] == [7,5,6,10,11]\n",
    "\n",
    "print(\"Day 1\", signal_start(data))\n",
    "print(\"Day 2\", message_start(data))"
   ]
  }
 ],
 "metadata": {
  "kernelspec": {
   "display_name": "Python 3.9.4 64-bit ('3.9.4')",
   "language": "python",
   "name": "python3"
  },
  "language_info": {
   "codemirror_mode": {
    "name": "ipython",
    "version": 3
   },
   "file_extension": ".py",
   "mimetype": "text/x-python",
   "name": "python",
   "nbconvert_exporter": "python",
   "pygments_lexer": "ipython3",
   "version": "3.9.4"
  },
  "orig_nbformat": 4,
  "vscode": {
   "interpreter": {
    "hash": "7bddceb0e3e1cc3ea0db415d758dd189a08079c380e0bac9d1e81b759225f44d"
   }
  }
 },
 "nbformat": 4,
 "nbformat_minor": 2
}
