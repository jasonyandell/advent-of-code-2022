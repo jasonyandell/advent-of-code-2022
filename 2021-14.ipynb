{
 "cells": [
  {
   "cell_type": "markdown",
   "metadata": {},
   "source": [
    "# Learning"
   ]
  },
  {
   "cell_type": "code",
   "execution_count": 28,
   "metadata": {},
   "outputs": [],
   "source": [
    "from collections import Counter"
   ]
  },
  {
   "cell_type": "code",
   "execution_count": 56,
   "metadata": {},
   "outputs": [],
   "source": [
    "def interpret(text: str):\n",
    "    lines = text.splitlines()\n",
    "    rulesLines = lines[2:]\n",
    "    rulesList = [line.split(' -> ') for line in rulesLines]\n",
    "    rules = dict(rulesList)\n",
    "    return lines[0],rules\n",
    "\n",
    "def apply(input: str, rules: dict[str, str]):\n",
    "    output = str(\"\")\n",
    "    for i in range(len(input)):\n",
    "        curr = input[i:i+2]\n",
    "        if curr in rules:\n",
    "            output += input[i] + rules[curr]\n",
    "        else:\n",
    "            output += input[i]\n",
    "    return output\n",
    "\n",
    "def disparity(haps:Counter[str]):\n",
    "    low, hi = ['',float('inf')], ['',float('-inf')]\n",
    "    for k, v in haps.items():\n",
    "        low = [k,v] if v<low[1] else low\n",
    "        hi = [k,v] if v>hi[1] else hi\n",
    "    return hi[1]-low[1]\n",
    "\n",
    "def disparityStr(value: str):\n",
    "    haps = Counter(value)\n",
    "    return disparity(haps)\n"
   ]
  },
  {
   "cell_type": "code",
   "execution_count": 57,
   "metadata": {},
   "outputs": [],
   "source": [
    "sample = \"\"\"NNCB\n",
    "\n",
    "CH -> B\n",
    "HH -> N\n",
    "CB -> H\n",
    "NH -> C\n",
    "HB -> C\n",
    "HC -> B\n",
    "HN -> C\n",
    "NN -> C\n",
    "BH -> H\n",
    "NC -> B\n",
    "NB -> B\n",
    "BN -> B\n",
    "BB -> N\n",
    "BC -> B\n",
    "CC -> N\n",
    "CN -> C\"\"\"\n",
    "\n",
    "sampleOutput = \"\"\"NCNBCHB\n",
    "NBCCNBBBCBHCB\n",
    "NBBBCNCCNBBNBNBBCHBHHBCHB\n",
    "NBBNBNBBCCNBCNCCNBBNBBNBBBNBBNBBCBHCBHHNHCBBCBHCB\"\"\".splitlines()"
   ]
  },
  {
   "cell_type": "code",
   "execution_count": 58,
   "metadata": {},
   "outputs": [],
   "source": [
    "template, rules = interpret(sample)\n",
    "\n",
    "output = []\n",
    "value = template\n",
    "for i in range(10):\n",
    "    value = apply(value, rules)\n",
    "    output.append(value)\n",
    "\n",
    "for i in range(len(sampleOutput)):\n",
    "    if output[i] != sampleOutput[i]:\n",
    "        print(\"mismatch\", output[i], sampleOutput[i])\n",
    "\n",
    "result = disparityStr(value)\n",
    "assert(result == 1588)"
   ]
  },
  {
   "cell_type": "markdown",
   "metadata": {},
   "source": [
    "Day 1"
   ]
  },
  {
   "cell_type": "code",
   "execution_count": 60,
   "metadata": {},
   "outputs": [],
   "source": [
    "from aoc import read_data\n",
    "\n",
    "template, rules = interpret(read_data('data/2021-14.txt'))\n",
    "\n",
    "value = template\n",
    "for i in range(10):\n",
    "    value = apply(value, rules)\n",
    "\n",
    "day1 = disparityStr(value)\n",
    "assert(day1 == 3284)"
   ]
  },
  {
   "cell_type": "markdown",
   "metadata": {},
   "source": [
    "Day 2"
   ]
  },
  {
   "cell_type": "code",
   "execution_count": 67,
   "metadata": {},
   "outputs": [],
   "source": [
    "from collections import defaultdict\n",
    "\n",
    "template, rules = interpret(sample)\n",
    "\n",
    "pairs = Counter([template[i:i+2] for i in range(len(template)-1)])\n",
    "\n",
    "def apply(current: Counter[str]): \n",
    "    new = defaultdict(lambda:0)\n",
    "    for x,c in current.items():\n",
    "        if x in rules:\n",
    "            new[x[0]+rules[x]] += c\n",
    "            new[rules[x]+x[1]] += c\n",
    "        else:\n",
    "            new[x] += c\n",
    "    return Counter(new)\n",
    "\n",
    "value = pairs\n",
    "for i in range(40):\n",
    "    value.update(apply(value))\n",
    "\n",
    "first = defaultdict(lambda:0)\n",
    "second = defaultdict(lambda:0)\n",
    "for k,v in value.items():\n",
    "    first[k[0]] += v\n",
    "    second[k[1]] += v\n",
    "\n",
    "# abbc -> ab bb bc\n",
    "# first = a1 b2\n",
    "# second = b2 c1\n",
    "# first-second = a1\n",
    "# second-first = c1\n",
    "# first & second = b4\n",
    "# first & second / 2 = b2\n",
    "\n",
    "first = defaultdict(lambda:0,Counter({'a':1,'b':2}))\n",
    "second = defaultdict(lambda:0,Counter({'b':2,'c':1}))\n",
    "\n",
    "firstMinusSecond = [[k, v-second[k]] for k,v in first.items() if v-second[k]>0]\n",
    "secondMinusFirst = [[k, v-first[k]] for k,v in second.items() if v-first[k]>0]\n",
    "both = []\n",
    "\n",
    "day2 = disparity(first)\n"
   ]
  },
  {
   "cell_type": "code",
   "execution_count": null,
   "metadata": {},
   "outputs": [],
   "source": []
  }
 ],
 "metadata": {
  "kernelspec": {
   "display_name": "Python 3.9.4 64-bit ('3.9.4')",
   "language": "python",
   "name": "python3"
  },
  "language_info": {
   "codemirror_mode": {
    "name": "ipython",
    "version": 3
   },
   "file_extension": ".py",
   "mimetype": "text/x-python",
   "name": "python",
   "nbconvert_exporter": "python",
   "pygments_lexer": "ipython3",
   "version": "3.9.4"
  },
  "orig_nbformat": 4,
  "vscode": {
   "interpreter": {
    "hash": "7bddceb0e3e1cc3ea0db415d758dd189a08079c380e0bac9d1e81b759225f44d"
   }
  }
 },
 "nbformat": 4,
 "nbformat_minor": 2
}
