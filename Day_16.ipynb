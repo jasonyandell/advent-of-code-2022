{
 "cells": [
  {
   "cell_type": "code",
   "execution_count": 49,
   "metadata": {},
   "outputs": [
    {
     "name": "stdout",
     "output_type": "stream",
     "text": [
      "1651\n"
     ]
    }
   ],
   "source": [
    "from collections import defaultdict\n",
    "from dataclasses import astuple, dataclass\n",
    "from functools import cache\n",
    "from heapq import heappop, heappush\n",
    "import re\n",
    "\n",
    "sample = \"\"\"Valve AA has flow rate=0; tunnels lead to valves DD, II, BB\n",
    "Valve BB has flow rate=13; tunnels lead to valves CC, AA\n",
    "Valve CC has flow rate=2; tunnels lead to valves DD, BB\n",
    "Valve DD has flow rate=20; tunnels lead to valves CC, AA, EE\n",
    "Valve EE has flow rate=3; tunnels lead to valves FF, DD\n",
    "Valve FF has flow rate=0; tunnels lead to valves EE, GG\n",
    "Valve GG has flow rate=0; tunnels lead to valves FF, HH\n",
    "Valve HH has flow rate=22; tunnel leads to valve GG\n",
    "Valve II has flow rate=0; tunnels lead to valves AA, JJ\n",
    "Valve JJ has flow rate=21; tunnel leads to valve II\"\"\".splitlines()\n",
    "\n",
    "def parse(lines):\n",
    "    flows = {}\n",
    "    neighbors = {}\n",
    "    for line in lines:\n",
    "        x = re.findall(\"Valve (.+) has flow rate=(.+); .*valves? (.*)\", line)\n",
    "        [(node, flow, dests)] = x\n",
    "        neighbors[node] = dests_split = dests.split(', ')\n",
    "        flows[node] = int(flow)\n",
    "    return flows, neighbors\n",
    "\n",
    "def part1(input):\n",
    "    flows, neighbors = parse(input)\n",
    "\n",
    "    @cache\n",
    "    def inner(curr:str, already_opened:frozenset[str], time_remaining:int):\n",
    "        if time_remaining <= 0: return 0\n",
    "\n",
    "        value = flows[curr] * (time_remaining - 1) # start turning valve at minute 1, flow starts at minute 0\n",
    "        now_opened = already_opened | set([curr]) # this line is carrying a lot of weight.  set('AA') = set('A') while set(['AA']) = set('AA')\n",
    "\n",
    "        best = 0\n",
    "        for n in neighbors[curr]:\n",
    "            # try opening if unopened and there's value in it\n",
    "            value_in_opening = 0\n",
    "            if value > 0 and (curr not in already_opened):\n",
    "                value_in_opening = value + inner(n, now_opened, time_remaining-2)\n",
    "            # try just moving to a neighbor\n",
    "            value_in_moving = inner(n, already_opened, time_remaining-1)\n",
    "            best = max(best, value_in_opening, value_in_moving)\n",
    "        return best\n",
    "    return inner(\"AA\", frozenset(), 30)\n",
    "\n",
    "print(part1(sample))\n",
    "\n"
   ]
  },
  {
   "cell_type": "code",
   "execution_count": 50,
   "metadata": {},
   "outputs": [
    {
     "name": "stdout",
     "output_type": "stream",
     "text": [
      "2119\n"
     ]
    }
   ],
   "source": [
    "from aoc import read_lines\n",
    "\n",
    "print(part1(read_lines(\"data/day16.txt\")))"
   ]
  },
  {
   "cell_type": "code",
   "execution_count": null,
   "metadata": {},
   "outputs": [],
   "source": []
  },
  {
   "cell_type": "code",
   "execution_count": null,
   "metadata": {},
   "outputs": [],
   "source": []
  }
 ],
 "metadata": {
  "kernelspec": {
   "display_name": "Python 3",
   "language": "python",
   "name": "python3"
  },
  "language_info": {
   "codemirror_mode": {
    "name": "ipython",
    "version": 3
   },
   "file_extension": ".py",
   "mimetype": "text/x-python",
   "name": "python",
   "nbconvert_exporter": "python",
   "pygments_lexer": "ipython3",
   "version": "3.11.0"
  },
  "orig_nbformat": 4,
  "vscode": {
   "interpreter": {
    "hash": "1a1af0ee75eeea9e2e1ee996c87e7a2b11a0bebd85af04bb136d915cefc0abce"
   }
  }
 },
 "nbformat": 4,
 "nbformat_minor": 2
}
