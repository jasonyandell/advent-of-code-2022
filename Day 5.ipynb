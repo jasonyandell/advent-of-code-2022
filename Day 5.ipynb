{
 "cells": [
  {
   "cell_type": "markdown",
   "metadata": {},
   "source": [
    "# Day 5\n",
    "\n",
    "Learned a good deal from parsing things today.\n",
    "\n",
    "Examples\n",
    "* `isnumeric`\n",
    "* reversing things with `[::-1]`\n",
    "* getting the last `n` things `[:-n]`"
   ]
  },
  {
   "cell_type": "markdown",
   "metadata": {},
   "source": [
    "Code"
   ]
  },
  {
   "cell_type": "code",
   "execution_count": 193,
   "metadata": {},
   "outputs": [],
   "source": [
    "def get_board_and_stacks(raw):\n",
    "    all = raw.splitlines()\n",
    "    \n",
    "    # stacks\n",
    "    initial_board = all[0:all.index('')]\n",
    "    stacks:list[str] = [\"\"]*10 # put a blank stack at 0 to make indexes line up easier later\n",
    "    for line in initial_board[:-1]:\n",
    "        for i,n in zip(range(1,10),range(1,len(line),4)): #ugly\n",
    "            stacks[i] = line[n].strip() + stacks[i]\n",
    "\n",
    "    # moves\n",
    "    moves_strings = all[all.index('')+1:]\n",
    "    moves = [[int(x) for x in move_str.split(' ') if x.isnumeric()]\\\n",
    "        for move_str in moves_strings]\n",
    "\n",
    "    return stacks, moves\n",
    "\n",
    "def solution(raw, direction):\n",
    "    stacks, moves = get_board_and_stacks(raw)\n",
    "    for [size,start,dest] in moves:\n",
    "        stacks[dest] += stacks[start][-size:][::direction]\n",
    "        stacks[start] = stacks[start][:-size]\n",
    "    top_of_stacks = \"\".join([stack[-1] for stack in stacks if len(stack)>0])\n",
    "    return top_of_stacks\n",
    "\n"
   ]
  },
  {
   "cell_type": "markdown",
   "metadata": {},
   "source": [
    "Data"
   ]
  },
  {
   "cell_type": "code",
   "execution_count": 194,
   "metadata": {},
   "outputs": [],
   "source": [
    "sample=\"\"\"    [D]    \n",
    "[N] [C]    \n",
    "[Z] [M] [P]\n",
    " 1   2   3 \n",
    "\n",
    "move 1 from 2 to 1\n",
    "move 3 from 1 to 3\n",
    "move 2 from 2 to 1\n",
    "move 1 from 1 to 2\"\"\"\n",
    "\n",
    "from aoc import read_data\n",
    "real_data = read_data(\"data/day5.txt\")"
   ]
  },
  {
   "cell_type": "markdown",
   "metadata": {},
   "source": [
    "Part 1"
   ]
  },
  {
   "cell_type": "code",
   "execution_count": 195,
   "metadata": {},
   "outputs": [],
   "source": [
    "\n",
    "def part1(raw):\n",
    "    return solution(raw, -1)\n",
    "\n",
    "assert(part1(sample) == 'CMZ')\n",
    "assert('TQRFCBSJJ' == part1(real_data))"
   ]
  },
  {
   "cell_type": "markdown",
   "metadata": {},
   "source": [
    "Part 2"
   ]
  },
  {
   "cell_type": "code",
   "execution_count": 196,
   "metadata": {},
   "outputs": [],
   "source": [
    "def part2(raw):\n",
    "    return solution(raw, 1)\n",
    "\n",
    "assert(part2(sample) == 'MCD')\n",
    "assert('RMHFJNVFP' == part2(read_data(\"data/day5.txt\")))"
   ]
  }
 ],
 "metadata": {
  "kernelspec": {
   "display_name": "Python 3.9.4 64-bit ('3.9.4')",
   "language": "python",
   "name": "python3"
  },
  "language_info": {
   "codemirror_mode": {
    "name": "ipython",
    "version": 3
   },
   "file_extension": ".py",
   "mimetype": "text/x-python",
   "name": "python",
   "nbconvert_exporter": "python",
   "pygments_lexer": "ipython3",
   "version": "3.9.4"
  },
  "orig_nbformat": 4,
  "vscode": {
   "interpreter": {
    "hash": "7bddceb0e3e1cc3ea0db415d758dd189a08079c380e0bac9d1e81b759225f44d"
   }
  }
 },
 "nbformat": 4,
 "nbformat_minor": 2
}
