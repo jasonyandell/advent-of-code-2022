{
 "cells": [
  {
   "cell_type": "code",
   "execution_count": 73,
   "metadata": {},
   "outputs": [],
   "source": [
    "from heapq import heappop, heappush\n",
    "from aoc import read_lines\n",
    "\n",
    "sample = \"\"\"Sabqponm\n",
    "abcryxxl\n",
    "accszExk\n",
    "acctuvwj\n",
    "abdefghi\"\"\".splitlines()\n",
    "\n",
    "data = read_lines(\"data/day12.txt\")\n",
    "\n",
    "def find_char(ch:str, grid:list[str]):\n",
    "    result = []\n",
    "    for r in range(len(grid)):\n",
    "        for c in range(len(grid[r])):\n",
    "            if grid[r][c]==ch: result.append((r,c))\n",
    "    return result\n",
    "\n",
    "def walk(grid:list[str],start):\n",
    "    startr,startc = start\n",
    "    endr,endc = find_char('E', grid)[0]\n",
    "    w,h = len(grid[0]), len(grid)\n",
    "    dirs = [[-1,0],[1,0],[0,-1],[0,1]]\n",
    "\n",
    "    visited = [[w*h+1]*w for i in range(h)]\n",
    "    heap = []\n",
    "\n",
    "    heappush(heap, ((0,0), (startr,startc)))\n",
    "\n",
    "    while len(heap) > 0:\n",
    "        (p,l), (r,c) = heappop(heap)  # get the lowest priority\n",
    "        if grid[r][c] == 'E': return l # we are done\n",
    "        if (visited[r][c] <= l): continue  # we already got here, try something else\n",
    "\n",
    "        visited[r][c] = l\n",
    "\n",
    "        for [dr,dc] in dirs:\n",
    "            nr,nc = r+dr, c+dc\n",
    "            if nr < 0 or nr >= h: continue\n",
    "            if nc < 0 or nc >= w: continue\n",
    "            source_height = grid[r][c] if grid[r][c] != 'S' else 'a'\n",
    "            dest_height = grid[nr][nc] if grid[nr][nc] != 'E' else 'z'\n",
    "            if ord(dest_height)-ord(source_height) > 1: continue\n",
    "\n",
    "            cost = abs(endr-nr)+abs(endc-c)\n",
    "            heappush(heap, ((l+1+cost,l+1), (nr,nc)))\n",
    "\n",
    "    return 10000000 # part 2: really large value if we don't find any path\n",
    "\n",
    "def part1(grid:list[str]): return walk(grid, find_char('S', grid)[0])\n",
    "\n",
    "assert 31 == part1(sample)\n",
    "assert 330 == part1(data)\n",
    "\n",
    "def part2(grid:list[str]): \n",
    "    lowest = 1000000000\n",
    "    positions = find_char('S', grid)\n",
    "    positions.extend(find_char('a',grid))\n",
    "    for start in positions:\n",
    "        lowest = min(lowest, walk(grid, start))\n",
    "    return lowest\n",
    "\n",
    "assert 29 == part2(sample)\n",
    "assert 321 == part2(data)"
   ]
  },
  {
   "cell_type": "code",
   "execution_count": null,
   "metadata": {},
   "outputs": [],
   "source": []
  }
 ],
 "metadata": {
  "kernelspec": {
   "display_name": "Python 3",
   "language": "python",
   "name": "python3"
  },
  "language_info": {
   "codemirror_mode": {
    "name": "ipython",
    "version": 3
   },
   "file_extension": ".py",
   "mimetype": "text/x-python",
   "name": "python",
   "nbconvert_exporter": "python",
   "pygments_lexer": "ipython3",
   "version": "3.11.0"
  },
  "orig_nbformat": 4,
  "vscode": {
   "interpreter": {
    "hash": "1a1af0ee75eeea9e2e1ee996c87e7a2b11a0bebd85af04bb136d915cefc0abce"
   }
  }
 },
 "nbformat": 4,
 "nbformat_minor": 2
}
